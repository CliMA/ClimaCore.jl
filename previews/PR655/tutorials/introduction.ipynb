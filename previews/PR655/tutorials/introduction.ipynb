{
 "cells": [
  {
   "cell_type": "markdown",
   "source": [
    "# Introduction to ClimaCore.jl\n",
    "\n",
    "### What is ClimaCore?\n",
    "\n",
    "A suite of tools for constructing spatial discretizations\n",
    "\n",
    "- primarily aimed at climate and weather models\n",
    "- initial aim:\n",
    "  - spectral element discretization in the horizontal\n",
    "  - staggered finite difference in the vertical\n",
    "- currently under development"
   ],
   "metadata": {}
  },
  {
   "outputs": [],
   "cell_type": "code",
   "source": [
    "using ClimaCore,\n",
    "    ClimaCorePlots, LinearAlgebra, IntervalSets, UnPack, Plots, OrdinaryDiffEq"
   ],
   "metadata": {},
   "execution_count": null
  },
  {
   "cell_type": "markdown",
   "source": [
    "## 1. Constructing a discretization"
   ],
   "metadata": {}
  },
  {
   "cell_type": "markdown",
   "source": [
    "### 1.1 Domains\n",
    "\n",
    "A _domain_ is a region of space (think of a mathematical domain)."
   ],
   "metadata": {}
  },
  {
   "outputs": [],
   "cell_type": "code",
   "source": [
    "column_domain = ClimaCore.Domains.IntervalDomain(\n",
    "    ClimaCore.Geometry.ZPoint(0.0) .. ClimaCore.Geometry.ZPoint(10.0),\n",
    "    boundary_tags = (:bottom, :top),\n",
    ")"
   ],
   "metadata": {},
   "execution_count": null
  },
  {
   "outputs": [],
   "cell_type": "code",
   "source": [
    "rectangle_domain = ClimaCore.Domains.RectangleDomain(\n",
    "    ClimaCore.Geometry.XPoint(-2π) .. ClimaCore.Geometry.XPoint(2π),\n",
    "    ClimaCore.Geometry.YPoint(-2π) .. ClimaCore.Geometry.YPoint(2π),\n",
    "    x1periodic = true,\n",
    "    x2periodic = true,\n",
    ")"
   ],
   "metadata": {},
   "execution_count": null
  },
  {
   "cell_type": "markdown",
   "source": [
    "### 1.2 Meshes\n",
    "\n",
    "A _mesh_ is a division of a domain into elements"
   ],
   "metadata": {}
  },
  {
   "outputs": [],
   "cell_type": "code",
   "source": [
    "column_mesh = ClimaCore.Meshes.IntervalMesh(column_domain, nelems = 32)"
   ],
   "metadata": {},
   "execution_count": null
  },
  {
   "outputs": [],
   "cell_type": "code",
   "source": [
    "rectangle_mesh = ClimaCore.Meshes.RectilinearMesh(rectangle_domain, 16, 16)"
   ],
   "metadata": {},
   "execution_count": null
  },
  {
   "cell_type": "markdown",
   "source": [
    "### 1.3 Topologies\n",
    "\n",
    "A _topology_ determines the ordering and connections between elements of a mesh\n",
    "- At the moment, this is only required for 2D meshes"
   ],
   "metadata": {}
  },
  {
   "outputs": [],
   "cell_type": "code",
   "source": [
    "rectangle_topology = ClimaCore.Topologies.Topology2D(rectangle_mesh)"
   ],
   "metadata": {},
   "execution_count": null
  },
  {
   "cell_type": "markdown",
   "source": [
    "### 1.4 Spaces\n",
    "\n",
    "A _space_ represents a discretized function space over some domain. Currently two discretizations are supported."
   ],
   "metadata": {}
  },
  {
   "cell_type": "markdown",
   "source": [
    "#### 1.4.1 Staggered finite difference discretization\n",
    "\n",
    "This discretizes an interval domain by approximating the function by a value at either the center of each element (`CenterFiniteDifferenceSpace`), or the faces between elements (`FaceFiniteDifferenceSpace`).\n",
    "\n",
    "You can construct either the center or face space from the mesh, then construct the opposite space from the original one (this is to avoid allocating additional memory)."
   ],
   "metadata": {}
  },
  {
   "outputs": [],
   "cell_type": "code",
   "source": [
    "column_center_space = ClimaCore.Spaces.CenterFiniteDifferenceSpace(column_mesh)\n",
    "# construct the face space from the center one\n",
    "column_face_space =\n",
    "    ClimaCore.Spaces.FaceFiniteDifferenceSpace(column_center_space)"
   ],
   "metadata": {},
   "execution_count": null
  },
  {
   "cell_type": "markdown",
   "source": [
    "#### 1.4.2 Spectral element discretization\n",
    "\n",
    "A spectral element space approximates the function with polynomials in each element. The polynomials are represented using a *nodal discretization*, which stores the values of the polynomials at particular points in each element (termed *nodes* or *degrees of freedom*).\n",
    "\n",
    "These nodes are chosen by a particular *quadrature rule*, which allows us to integrate functions over the domain. The only supported choice for now is a Gauss-Legendre-Lobatto rule."
   ],
   "metadata": {}
  },
  {
   "outputs": [],
   "cell_type": "code",
   "source": [
    "# Gauss-Legendre-Lobatto quadrature with 4 nodes in each direction, so 16 in each element\n",
    "quad = ClimaCore.Spaces.Quadratures.GLL{4}()\n",
    "rectangle_space =\n",
    "    ClimaCore.Spaces.SpectralElementSpace2D(rectangle_topology, quad)"
   ],
   "metadata": {},
   "execution_count": null
  },
  {
   "cell_type": "markdown",
   "source": [
    "### 1.5 Fields\n",
    "\n",
    "Finally, we can construct a *field*: a function in a space. A field is simply a space and the values at each node in the space.\n",
    "\n",
    "The easiest field to construct is the _coordinate field_"
   ],
   "metadata": {}
  },
  {
   "outputs": [],
   "cell_type": "code",
   "source": [
    "coord = ClimaCore.Fields.coordinate_field(rectangle_space)"
   ],
   "metadata": {},
   "execution_count": null
  },
  {
   "cell_type": "markdown",
   "source": [
    "This is a *struct-value field*: it contains coordinates in a struct at each point. We can extract just the `x` coordinate, to get a *scalar field*:"
   ],
   "metadata": {}
  },
  {
   "outputs": [],
   "cell_type": "code",
   "source": [
    "x = coord.x"
   ],
   "metadata": {},
   "execution_count": null
  },
  {
   "cell_type": "markdown",
   "source": [
    "Although you can't index directly into a field, it can be used in some other ways similar to a Julia `Array`. For example, broadcasting can be used to define new fields in terms of other ones:"
   ],
   "metadata": {}
  },
  {
   "outputs": [],
   "cell_type": "code",
   "source": [
    "sinx = sin.(x)"
   ],
   "metadata": {},
   "execution_count": null
  },
  {
   "cell_type": "markdown",
   "source": [
    "Fields can be easily vizualized with Plots.jl:"
   ],
   "metadata": {}
  },
  {
   "outputs": [],
   "cell_type": "code",
   "source": [
    "import Plots\n",
    "Plots.plot(sinx)"
   ],
   "metadata": {},
   "execution_count": null
  },
  {
   "cell_type": "markdown",
   "source": [
    "If you're using the terminal, `UnicodePlots` is also supported."
   ],
   "metadata": {}
  },
  {
   "cell_type": "markdown",
   "source": [
    "This works similarly for finite difference discretizations"
   ],
   "metadata": {}
  },
  {
   "outputs": [],
   "cell_type": "code",
   "source": [
    "column_center_coords = ClimaCore.Fields.coordinate_field(column_center_space)\n",
    "column_face_coords = ClimaCore.Fields.coordinate_field(column_face_space)"
   ],
   "metadata": {},
   "execution_count": null
  },
  {
   "outputs": [],
   "cell_type": "code",
   "source": [
    "plot(sin.(column_center_coords.z), ylim = (0.0, 10.0))\n",
    "plot!(cos.(column_face_coords.z), ylim = (0.0, 10.0))"
   ],
   "metadata": {},
   "execution_count": null
  },
  {
   "cell_type": "markdown",
   "source": [
    "Reduction operations are defined anologously:\n",
    "\n",
    "- `sum` will give the integral of the function\n",
    "$$\n",
    "\\int_D f(x) dx\n",
    "$$\n",
    "- `norm` will give the L² function norm\n",
    "$$\n",
    "\\sqrt{\\int_D |f(x)|^2 dx}\n",
    "$$"
   ],
   "metadata": {}
  },
  {
   "outputs": [],
   "cell_type": "code",
   "source": [
    "sum(sinx) ## integral"
   ],
   "metadata": {},
   "execution_count": null
  },
  {
   "outputs": [],
   "cell_type": "code",
   "source": [
    "norm(sinx) ## L² norm"
   ],
   "metadata": {},
   "execution_count": null
  },
  {
   "cell_type": "markdown",
   "source": [
    "### 1.6 Vectors and vector fields\n",
    "\n",
    "A *vector field* is a field with vector-valued quantity, i.e. at every point in space, you have a vector.\n",
    "\n",
    "However one of the key requirements of ClimaCore is to support vectors specified in curvilinear or non-Cartesian coordinates. We will discuss this in a bit further, but for now, you can define a 2-dimensional vector field using `Geometry.UVVector`:"
   ],
   "metadata": {}
  },
  {
   "outputs": [],
   "cell_type": "code",
   "source": [
    "v = ClimaCore.Geometry.UVVector.(coord.y, .-coord.x)"
   ],
   "metadata": {},
   "execution_count": null
  },
  {
   "cell_type": "markdown",
   "source": [
    "## 2. Operators\n",
    "\n",
    "_Operators_ can compute spatial derivative operations.\n",
    "\n",
    " - for performance reasons, we need to be able to \"fuse\" multiple operators and function applications\n",
    " - Julia provides a tool for this: **broadcasting**, with a very flexible API\n",
    "\n",
    "Can think of operators are \"pseudo-functions\": can't be called directly, but act similar to functions in the context of broadcasting."
   ],
   "metadata": {}
  },
  {
   "cell_type": "markdown",
   "source": [
    "### 2.1 Spectral element operators\n",
    "\n",
    "The `Gradient` operator takes the gradient of a scalar field, and returns a vector field."
   ],
   "metadata": {}
  },
  {
   "outputs": [],
   "cell_type": "code",
   "source": [
    "grad = ClimaCore.Operators.Gradient()\n",
    "∇sinx = grad.(sinx)"
   ],
   "metadata": {},
   "execution_count": null
  },
  {
   "outputs": [],
   "cell_type": "code",
   "source": [
    "plot(∇sinx.components.data.:1, clim = (-1, 1))"
   ],
   "metadata": {},
   "execution_count": null
  },
  {
   "cell_type": "markdown",
   "source": [
    "This returns the gradient in [_covariant_](https://en.wikipedia.org/wiki/Covariance_and_contravariance_of_vectors) coordinates\n",
    "$$\n",
    "(\\nabla f)_i = \\frac{\\partial f}{\\partial \\xi^i}\n",
    "$$\n",
    "where $(\\xi^1,\\xi^2)$ are the coordinates in the *reference element*: a square $[-1,1]^2$.\n",
    "\n",
    "This can be converted to a local orthogonal basis by multiplying by the partial derivative matrix\n",
    "$$\n",
    "\\frac{\\partial \\xi}{\\partial x}\n",
    "$$\n",
    "This can be done calling `ClimaCore.Geometry.LocalVector:"
   ],
   "metadata": {}
  },
  {
   "outputs": [],
   "cell_type": "code",
   "source": [
    "∇sinx_cart = ClimaCore.Geometry.LocalVector.(∇sinx)"
   ],
   "metadata": {},
   "execution_count": null
  },
  {
   "outputs": [],
   "cell_type": "code",
   "source": [
    "plot(∇sinx_cart.components.data.:1, clim = (-1, 1))"
   ],
   "metadata": {},
   "execution_count": null
  },
  {
   "outputs": [],
   "cell_type": "code",
   "source": [
    "plot(∇sinx_cart.components.data.:2, clim = (-1, 1))"
   ],
   "metadata": {},
   "execution_count": null
  },
  {
   "outputs": [],
   "cell_type": "code",
   "source": [
    "∇sinx_ref = ClimaCore.Geometry.UVVector.(cos.(x), 0.0)\n",
    "norm(∇sinx_cart .- ∇sinx_ref)"
   ],
   "metadata": {},
   "execution_count": null
  },
  {
   "cell_type": "markdown",
   "source": [
    "Similarly, the `Divergence` operator takes the divergence of vector field, and returns a scalar field.\n",
    "\n",
    "If we take the divergence of a gradient, we can get a Laplacian:"
   ],
   "metadata": {}
  },
  {
   "outputs": [],
   "cell_type": "code",
   "source": [
    "div = ClimaCore.Operators.Divergence()\n",
    "∇²sinx = div.(grad.(sinx))\n",
    "plot(∇²sinx)"
   ],
   "metadata": {},
   "execution_count": null
  },
  {
   "cell_type": "markdown",
   "source": [
    "*Note*: In curvilinear coordinates, the divergence is defined in terms of the _contravariant_ components $u^i$:\n",
    "$$\n",
    "\\nabla \\cdot u = \\frac{1}{J} \\sum_i \\frac{\\partial}{\\partial \\xi^i} (J u^i)\n",
    "$$\n",
    "The `Divergence` operator handles this conversion internally."
   ],
   "metadata": {}
  },
  {
   "cell_type": "markdown",
   "source": [
    "#### 2.1.1 Direct stiffness summation\n",
    "\n",
    "Spectral element operators only operate _within_ a single element, and so the result may be discontinuous. To address this, the usual fix is _direct stiffness summation_ (DSS), which averages the values at the element boundaries.\n",
    "\n",
    "This corresponds to the $L^2$ projection onto the subset of continuous functions in our function space."
   ],
   "metadata": {}
  },
  {
   "outputs": [],
   "cell_type": "code",
   "source": [
    "∇²sinx_dss = ClimaCore.Spaces.weighted_dss!(copy(∇²sinx))\n",
    "plot(∇²sinx_dss)"
   ],
   "metadata": {},
   "execution_count": null
  },
  {
   "outputs": [],
   "cell_type": "code",
   "source": [
    "plot(∇²sinx_dss .- ∇²sinx)"
   ],
   "metadata": {},
   "execution_count": null
  },
  {
   "cell_type": "markdown",
   "source": [
    "### 2.2 Finite difference operators\n",
    "\n",
    "Finite difference operators are similar with some subtle differences:\n",
    "- they can change staggering (center to face, or vice versa)\n",
    "- they can span multiple elements\n",
    "  - no DSS is required\n",
    "  - boundary handling may be required\n",
    "\n",
    "We use the following convention:\n",
    " - centers are indexed by integers `1, 2, ..., n`\n",
    " - faces are indexed by half integers `½, 1+½, ..., n+½`"
   ],
   "metadata": {}
  },
  {
   "cell_type": "markdown",
   "source": [
    "**Face to center gradient**\n",
    "\n",
    "An finite-difference operator defines a _stencil_. For example, the gradient operator\n",
    "\n",
    "$$\n",
    "\\nabla\\theta[i] = \\frac{\\theta [i+\\tfrac{1}{2}] - \\theta[i-\\tfrac{1}{2}]}{\\Delta z}\n",
    "$$\n",
    "(actually, a little more complicated as it gives a vector in a covariant basis)\n",
    "\n",
    "\n",
    "```\n",
    "        ...\n",
    "      /\n",
    "θ[2+½]\n",
    "      \\\n",
    "        ∇θ[2]\n",
    "      /\n",
    "θ[1+½]\n",
    "      \\\n",
    "        ∇θ[1]\n",
    "      /\n",
    "θ[½]\n",
    "```\n",
    "\n",
    "Every center value is well-defined, so boundary handling is optional."
   ],
   "metadata": {}
  },
  {
   "outputs": [],
   "cell_type": "code",
   "source": [
    "cosz = cos.(column_face_coords.z)\n",
    "gradf2c = ClimaCore.Operators.GradientF2C()\n",
    "∇cosz = gradf2c.(cosz)"
   ],
   "metadata": {},
   "execution_count": null
  },
  {
   "outputs": [],
   "cell_type": "code",
   "source": [
    "plot(map(x -> x.w, ClimaCore.Geometry.WVector.(∇cosz)), ylim = (0, 10))"
   ],
   "metadata": {},
   "execution_count": null
  },
  {
   "cell_type": "markdown",
   "source": [
    "**Center to face gradient**\n",
    "\n",
    "Uses the same stencil, but doesn't work directly:"
   ],
   "metadata": {}
  },
  {
   "outputs": [],
   "cell_type": "code",
   "source": [
    "sinz = sin.(column_center_coords.z)\n",
    "gradc2f = ClimaCore.Operators.GradientC2F()\n",
    "# ∇sinz = gradc2f.(sinz) ## this would throw an error"
   ],
   "metadata": {},
   "execution_count": null
  },
  {
   "cell_type": "markdown",
   "source": [
    "This throws an error because face values at the boundary are _not_ well-defined:\n",
    "\n",
    "```\n",
    "...\n",
    "      \\\n",
    "        ∇θ[2+½]\n",
    "      /\n",
    "θ[2]\n",
    "      \\\n",
    "        ∇θ[1+½]\n",
    "      /\n",
    "θ[1]\n",
    "      \\\n",
    "        ????\n",
    "```\n",
    "\n",
    "To handle boundaries we need to *modify the stencil*. Two options:\n",
    "- provide the _value_ $\\theta^*$ of $\\theta$ at the boundary:\n",
    "$$\n",
    "\\nabla\\theta[\\tfrac{1}{2}] = \\frac{\\theta[1] - \\theta^*}{\\Delta z /2}\n",
    "$$\n",
    "\n",
    "- provide the *gradient* $\\nabla\\theta^*$ of $\\theta$ at the boundary:\n",
    "$$\n",
    "\\nabla\\theta[\\tfrac{1}{2}] = \\nabla\\theta^*\n",
    "$$\n",
    "\n",
    "These modified stencils are provided as keyword arguments to the operator (based on the boundary label names):"
   ],
   "metadata": {}
  },
  {
   "outputs": [],
   "cell_type": "code",
   "source": [
    "sinz = sin.(column_center_coords.z)\n",
    "gradc2f = ClimaCore.Operators.GradientC2F(\n",
    "    bottom = ClimaCore.Operators.SetValue(sin(0.0)),\n",
    "    top = ClimaCore.Operators.SetGradient(\n",
    "        ClimaCore.Geometry.WVector(cos(10.0)),\n",
    "    ),\n",
    ")\n",
    "∇sinz = gradc2f.(sinz)"
   ],
   "metadata": {},
   "execution_count": null
  },
  {
   "outputs": [],
   "cell_type": "code",
   "source": [
    "plot(map(x -> x.w, ClimaCore.Geometry.WVector.(∇sinz)), ylim = (0, 10))"
   ],
   "metadata": {},
   "execution_count": null
  },
  {
   "cell_type": "markdown",
   "source": [
    "As before, multiple operators (or functions) can be fused together with broadcasting.\n",
    "\n",
    "One extra advantage of this is that boundaries of the inner operators only need to be specified if they would affect the final result.\n",
    "\n",
    "Consider the center-to-center Laplacian:\n",
    "\n",
    "```\n",
    "...\n",
    "      \\       /\n",
    "        ∇θ[2+½]\n",
    "      /       \\\n",
    "θ[2]            ∇⋅∇θ[2]\n",
    "      \\       /\n",
    "        ∇θ[1+½]\n",
    "      /       \\\n",
    "θ[1]            ∇⋅∇θ[1]\n",
    "              /\n",
    "         ∇θ*\n",
    "```"
   ],
   "metadata": {}
  },
  {
   "outputs": [],
   "cell_type": "code",
   "source": [
    "sinz = sin.(column_center_coords.z)\n",
    "# we don't need to specify boundaries, as the stencil won't reach that far\n",
    "gradc2f = ClimaCore.Operators.GradientC2F()\n",
    "divf2c = ClimaCore.Operators.DivergenceF2C(\n",
    "    bottom = ClimaCore.Operators.SetValue(ClimaCore.Geometry.WVector(cos(0.0))),\n",
    "    top = ClimaCore.Operators.SetValue(ClimaCore.Geometry.WVector(cos(10.0))),\n",
    ")\n",
    "∇∇sinz = divf2c.(gradc2f.(sinz))"
   ],
   "metadata": {},
   "execution_count": null
  },
  {
   "outputs": [],
   "cell_type": "code",
   "source": [
    "plot(∇∇sinz, ylim = (0, 10))"
   ],
   "metadata": {},
   "execution_count": null
  },
  {
   "cell_type": "markdown",
   "source": [
    "# 3. Solving PDEs\n",
    "\n",
    "ClimaCore can be used for spatial discretizations of PDEs. For temporal discretization, we can use the OrdinaryDiffEq package, which we aim to be compatibile with."
   ],
   "metadata": {}
  },
  {
   "outputs": [],
   "cell_type": "code",
   "source": [
    "using OrdinaryDiffEq"
   ],
   "metadata": {},
   "execution_count": null
  },
  {
   "cell_type": "markdown",
   "source": [
    "### 3.1 Heat equation using finite differences\n",
    "\n",
    "We will use a cell-center discretization of the heat equation:\n",
    "$$\n",
    "\\frac{\\partial y}{\\partial t} = \\alpha \\nabla \\cdot \\nabla y\n",
    "$$\n",
    "\n",
    "At the bottom we will use a Dirichlet condition ``y(0) = 1``` at the bottom: since we don't actually have a value located at the bottom, we will use a `SetValue` boundary modifier on the inner gradient.\n",
    "\n",
    "At the top we will use a Neumann condition $\\frac{\\partial y}{\\partial z}(10) = 0$. We can do this two equivalent ways:\n",
    " - a `SetGradient` on the gradient operator\n",
    " - a `SetValue` on the divergence operator\n",
    "\n",
    "either will work."
   ],
   "metadata": {}
  },
  {
   "outputs": [],
   "cell_type": "code",
   "source": [
    "y0 = zeros(column_center_space)\n",
    "\n",
    "# define the tendency function\n",
    "function heat_fd_tendency!(dydt, y, α, t)\n",
    "    gradc2f = ClimaCore.Operators.GradientC2F(\n",
    "        bottom = ClimaCore.Operators.SetValue(1.0),\n",
    "        top = ClimaCore.Operators.SetGradient(ClimaCore.Geometry.WVector(0.0)),\n",
    "    )\n",
    "    divf2c = ClimaCore.Operators.DivergenceF2C()\n",
    "    # the @. macro \"dots\" the whole expression\n",
    "    # i.e.  dydt .= α .* divf2c.(gradc2f.(y))\n",
    "    @. dydt = α * divf2c(gradc2f(y))\n",
    "end\n",
    "\n",
    "heat_fd_prob = ODEProblem(heat_fd_tendency!, y0, (0.0, 5.0), 0.1)\n",
    "heat_fd_sol = solve(heat_fd_prob, SSPRK33(), dt = 0.1, saveat = 0.25)"
   ],
   "metadata": {},
   "execution_count": null
  },
  {
   "outputs": [],
   "cell_type": "code",
   "source": [
    "anim = Plots.@animate for u in heat_fd_sol.u\n",
    "    plot(u, xlim = (0, 1), ylim = (0, 10))\n",
    "end\n",
    "mp4(anim)"
   ],
   "metadata": {},
   "execution_count": null
  },
  {
   "cell_type": "markdown",
   "source": [
    "### 3.2 Heat equation using continuous Galerkin (CG) spectral element"
   ],
   "metadata": {}
  },
  {
   "outputs": [],
   "cell_type": "code",
   "source": [
    "function heat_cg_tendency!(dydt, y, α, t)\n",
    "    grad = ClimaCore.Operators.Gradient()\n",
    "    wdiv = ClimaCore.Operators.WeakDivergence()\n",
    "    # apply element operators\n",
    "    @. dydt = α * wdiv(grad(y))\n",
    "\n",
    "    # direct stiffness summation (DSS): project to continuous function space\n",
    "    ClimaCore.Spaces.weighted_dss!(dydt)\n",
    "    return dydt\n",
    "end\n",
    "\n",
    "y0 = exp.(.-(coord.y .^ 2 .+ coord.x .^ 2) ./ 2)\n",
    "\n",
    "heat_cg_prob = ODEProblem(heat_cg_tendency!, y0, (0.0, 5.0), 0.1)\n",
    "heat_cg_sol = solve(heat_cg_prob, SSPRK33(), dt = 0.1, saveat = 0.5)"
   ],
   "metadata": {},
   "execution_count": null
  },
  {
   "outputs": [],
   "cell_type": "code",
   "source": [
    "anim = Plots.@animate for u in heat_cg_sol.u\n",
    "    Plots.plot(u, c = :thermal)\n",
    "end\n",
    "mp4(anim)"
   ],
   "metadata": {},
   "execution_count": null
  },
  {
   "cell_type": "markdown",
   "source": [
    "### 3.3 Shallow water equations\n",
    "\n",
    "\n",
    "The shallow water equations in vector invariant form can be written as\n",
    "$$\n",
    "\\begin{align*}\n",
    "    \\frac{\\partial \\rho}{\\partial t} + \\nabla \\cdot (\\rho u) &= 0\\\\\n",
    "    \\frac{\\partial u_i}{\\partial t} + \\nabla (\\Phi + \\tfrac{1}{2}\\|u\\|^2)_i  &= J (u \\times (\\nabla \\times u))_i\n",
    "\\end{align*}\n",
    "$$\n",
    "where $J$ is the Jacobian determinant, and $\\Phi = g \\rho$.\n",
    "\n",
    "Note that the velocity $u$ is specified in _covariant_ coordinates $u_i$.\n",
    "\n",
    "For vizualization purposes, we can model a passive tracer $\\theta$ as\n",
    "$$\n",
    "\\frac{\\partial \\rho \\theta}{\\partial t} + \\nabla \\cdot (\\rho \\theta u) = 0\n",
    "$$"
   ],
   "metadata": {}
  },
  {
   "outputs": [],
   "cell_type": "code",
   "source": [
    "using ClimaCore.Geometry\n",
    "\n",
    "parameters = (\n",
    "    ϵ = 0.1,  ## perturbation size for initial condition\n",
    "    l = 0.5, ## Gaussian width\n",
    "    k = 0.5, ## Sinusoidal wavenumber\n",
    "    ρ₀ = 1.0, ## reference density\n",
    "    c = 2,\n",
    "    g = 10,\n",
    "    D₄ = 1e-4, ## hyperdiffusion coefficient\n",
    ")\n",
    "\n",
    "function init_state(local_geometry, p)\n",
    "    coord = local_geometry.coordinates\n",
    "    @unpack x, y = coord\n",
    "    # set initial state\n",
    "    ρ = p.ρ₀\n",
    "\n",
    "    # set initial velocity\n",
    "    U₁ = cosh(y)^(-2)\n",
    "\n",
    "    # Ψ′ = exp(-(x2 + p.l / 10)^2 / 2p.l^2) * cos(p.k * x) * cos(p.k * y)\n",
    "    # Vortical velocity fields (u₁′, u₂′) = (-∂²Ψ′, ∂¹Ψ′)\n",
    "    ϕ = exp(-(y + p.l / 10)^2 / 2p.l^2)\n",
    "    u₁′ = ϕ * (y + p.l / 10) / p.l^2 * cos(p.k * x) * cos(p.k * y)\n",
    "    u₁′ += p.k * ϕ * cos(p.k * x) * sin(p.k * y)\n",
    "    u₂′ = -p.k * ϕ * sin(p.k * x) * cos(p.k * y)\n",
    "\n",
    "    u = Geometry.Covariant12Vector(\n",
    "        Geometry.UVVector(U₁ + p.ϵ * u₁′, p.ϵ * u₂′),\n",
    "        local_geometry,\n",
    "    )\n",
    "\n",
    "    # set initial tracer\n",
    "    θ = sin(p.k * y)\n",
    "    return (ρ = ρ, u = u, ρθ = ρ * θ)\n",
    "end\n",
    "\n",
    "\n",
    "y0 =\n",
    "    init_state.(\n",
    "        ClimaCore.Fields.local_geometry_field(rectangle_space),\n",
    "        Ref(parameters),\n",
    "    )\n",
    "\n",
    "# plot initial tracer\n",
    "Plots.plot(y0.ρθ)"
   ],
   "metadata": {},
   "execution_count": null
  },
  {
   "outputs": [],
   "cell_type": "code",
   "source": [
    "function shallow_water_tendency!(dydt, y, _, t)\n",
    "\n",
    "    @unpack D₄, g = parameters\n",
    "\n",
    "    sdiv = ClimaCore.Operators.Divergence()\n",
    "    wdiv = ClimaCore.Operators.WeakDivergence()\n",
    "    grad = ClimaCore.Operators.Gradient()\n",
    "    wgrad = ClimaCore.Operators.WeakGradient()\n",
    "    curl = ClimaCore.Operators.Curl()\n",
    "    wcurl = ClimaCore.Operators.WeakCurl()\n",
    "\n",
    "\n",
    "    # compute hyperviscosity first\n",
    "    @. dydt.u =\n",
    "        wgrad(sdiv(y.u)) -\n",
    "        Geometry.Covariant12Vector(wcurl(Geometry.Covariant3Vector(curl(y.u))))\n",
    "    @. dydt.ρθ = wdiv(grad(y.ρθ))\n",
    "\n",
    "    ClimaCore.Spaces.weighted_dss!(dydt)\n",
    "\n",
    "    @. dydt.u =\n",
    "        -D₄ * (\n",
    "            wgrad(sdiv(dydt.u)) - Geometry.Covariant12Vector(\n",
    "                wcurl(Geometry.Covariant3Vector(curl(dydt.u))),\n",
    "            )\n",
    "        )\n",
    "    @. dydt.ρθ = -D₄ * wdiv(grad(dydt.ρθ))\n",
    "\n",
    "    # comute rest of tendency\n",
    "    @. begin\n",
    "        dydt.ρ = -wdiv(y.ρ * y.u)\n",
    "        dydt.u += -grad(g * y.ρ + norm(y.u)^2 / 2) + y.u × curl(y.u)\n",
    "        dydt.ρθ += -wdiv(y.ρθ * y.u)\n",
    "    end\n",
    "    ClimaCore.Spaces.weighted_dss!(dydt)\n",
    "    return dydt\n",
    "end"
   ],
   "metadata": {},
   "execution_count": null
  },
  {
   "outputs": [],
   "cell_type": "code",
   "source": [
    "shallow_water_prob = ODEProblem(shallow_water_tendency!, y0, (0.0, 20.0))\n",
    "@time shallow_water_sol =\n",
    "    solve(shallow_water_prob, SSPRK33(), dt = 0.05, saveat = 1.0)\n",
    "anim = Plots.@animate for u in shallow_water_sol.u\n",
    "    Plots.plot(u.ρθ, clim = (-1, 1))\n",
    "end\n",
    "mp4(anim)"
   ],
   "metadata": {},
   "execution_count": null
  },
  {
   "cell_type": "markdown",
   "source": [
    "---\n",
    "\n",
    "*This notebook was generated using [Literate.jl](https://github.com/fredrikekre/Literate.jl).*"
   ],
   "metadata": {}
  }
 ],
 "nbformat_minor": 3,
 "metadata": {
  "language_info": {
   "file_extension": ".jl",
   "mimetype": "application/julia",
   "name": "julia",
   "version": "1.8.1"
  },
  "kernelspec": {
   "name": "julia-1.8",
   "display_name": "Julia 1.8.1",
   "language": "julia"
  }
 },
 "nbformat": 4
}
